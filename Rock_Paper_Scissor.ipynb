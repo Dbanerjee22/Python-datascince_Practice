{
 "cells": [
  {
   "cell_type": "code",
   "execution_count": 25,
   "metadata": {},
   "outputs": [
    {
     "name": "stdout",
     "output_type": "stream",
     "text": [
      "Enter your choice: paper\n",
      "Match Draw!\n"
     ]
    }
   ],
   "source": [
    "import random\n",
    "option=[\"ROCK\",\"PAPER\",\"SCISSOR\"]\n",
    "user_choice=input(\"Enter your choice: \").upper()\n",
    "computer_choice=random.choice(option)\n",
    "if user_choice==computer_choice:\n",
    "    print(\"Match Draw!\")\n",
    "elif computer_choice==\"ROCK\":\n",
    "    if user_choice==\"SCISSOR\":\n",
    "        print(\"{} breaks {},Computer Wins!\".format(computer_choice,user_choice))\n",
    "    else:\n",
    "        print(\"{} covers {},You Win!\".format(user_choice,computer_choice))\n",
    "elif computer_choice==\"SCISSOR\":\n",
    "    if user_choice==\"PAPER\":\n",
    "        print(\"{} cuts {},Computer Wins!\".format(computer_choice,user_choice))\n",
    "    else:\n",
    "        print(\"{} breaks {},You Win!\".format(computer_choice,user_choice))\n",
    "elif computer_choice==\"PAPER\":\n",
    "    if user_choice==\"ROCK\":\n",
    "        print(\"{} covers {},Computer Wins!\".format(computer_choice,user_choice))\n",
    "    else:\n",
    "        print(\"{} cuts {},You Wins!\".format(computer_choice,user_choice))"
   ]
  }
 ],
 "metadata": {
  "kernelspec": {
   "display_name": "Python 3",
   "language": "python",
   "name": "python3"
  },
  "language_info": {
   "codemirror_mode": {
    "name": "ipython",
    "version": 3
   },
   "file_extension": ".py",
   "mimetype": "text/x-python",
   "name": "python",
   "nbconvert_exporter": "python",
   "pygments_lexer": "ipython3",
   "version": "3.8.5"
  }
 },
 "nbformat": 4,
 "nbformat_minor": 4
}
